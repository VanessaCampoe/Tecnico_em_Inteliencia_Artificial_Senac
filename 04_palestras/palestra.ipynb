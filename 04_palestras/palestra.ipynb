{
 "cells": [
  {
   "cell_type": "code",
   "execution_count": null,
   "metadata": {},
   "outputs": [],
   "source": [
    "# Inteligencxia atificial "
   ]
  },
  {
   "cell_type": "markdown",
   "metadata": {},
   "source": [
    "- A Inteligencia Artificial eh a imitacao da vida.\n",
    "- 1950: os primeiros computadores construindo a historia da IA.\n",
    "- Inverno da IA: empolgacao seguida por uma desilusao.\n",
    "- IA baseada em logica foi perdendo espaco para uma IA baseada em Dados e Estatisticas.\n",
    "- Machine Learning aplicado ao comercio.\n",
    "- Redes Neurais, Big Data (Cloud Computer e Databricks).\n",
    "- \"Maquina Viva\" : na mitologia Grecia Antiga, China\n",
    "- XVII : dispositivos \"automatos\".\n",
    "- Filosofos : pensamento humano pode ser simulado por simbolos.\n",
    "- Alan Turing (1912-1954): teste de Turing (maquina tem ou nao tem inteligencia similar a humana).\n",
    "- Quem voce considera inteligente: \n",
    "        * Linguisticaç\n",
    "        * Artistica;\n",
    "        * Numerica;\n",
    "        * Sensorial;\n",
    "        * Espacial;\n",
    "        * Emocional;\n",
    "        * Fisica;\n",
    "        * Reflexiva;\n",
    "        \"Eu sei que sou inteligente porque eu sei que nada sei\" "
   ]
  },
  {
   "cell_type": "markdown",
   "metadata": {},
   "source": [
    "#Data Driven"
   ]
  },
  {
   "cell_type": "markdown",
   "metadata": {},
   "source": [
    "- Uma empresa orientada a Dados.\n",
    "- Voces jah possuem os dados, mas utilizam em uma visao Data Driven: \n",
    "        * Netflix\n",
    "        * Spotify\n",
    "        * Wall Mart\n"
   ]
  },
  {
   "cell_type": "markdown",
   "metadata": {},
   "source": [
    "#DataSetGames"
   ]
  },
  {
   "cell_type": "code",
   "execution_count": null,
   "metadata": {},
   "outputs": [],
   "source": [
    "\n"
   ]
  },
  {
   "cell_type": "code",
   "execution_count": 1,
   "metadata": {},
   "outputs": [
    {
     "name": "stdout",
     "output_type": "stream",
     "text": [
      "hellowold\n"
     ]
    }
   ],
   "source": [
    "print(\"hellowold\")"
   ]
  },
  {
   "cell_type": "markdown",
   "metadata": {},
   "source": [
    "# DataSet FIlmes"
   ]
  },
  {
   "cell_type": "markdown",
   "metadata": {},
   "source": []
  },
  {
   "cell_type": "code",
   "execution_count": null,
   "metadata": {},
   "outputs": [],
   "source": []
  },
  {
   "cell_type": "code",
   "execution_count": null,
   "metadata": {},
   "outputs": [],
   "source": []
  },
  {
   "cell_type": "markdown",
   "metadata": {},
   "source": [
    "DataSet Games"
   ]
  },
  {
   "cell_type": "markdown",
   "metadata": {},
   "source": [
    "DataSet Filmes"
   ]
  }
 ],
 "metadata": {
  "kernelspec": {
   "display_name": "venv",
   "language": "python",
   "name": "python3"
  },
  "language_info": {
   "codemirror_mode": {
    "name": "ipython",
    "version": 3
   },
   "file_extension": ".py",
   "mimetype": "text/x-python",
   "name": "python",
   "nbconvert_exporter": "python",
   "pygments_lexer": "ipython3",
   "version": "3.12.2"
  }
 },
 "nbformat": 4,
 "nbformat_minor": 2
}
