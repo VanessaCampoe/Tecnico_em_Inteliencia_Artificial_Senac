{
 "cells": [
  {
   "cell_type": "code",
   "execution_count": null,
   "metadata": {},
   "outputs": [],
   "source": [
    "# isso é um comentário de uma linha\n",
    "\n",
    "\"\"\"\n",
    "  Que maravilha! Isso é um comentário\n",
    "  Só que um comentário de múltiplas linhas\n",
    "\n",
    "\"\"\"\n",
    "\n",
    "print('Alô Mundo!')"
   ]
  },
  {
   "cell_type": "code",
   "execution_count": null,
   "metadata": {},
   "outputs": [],
   "source": [
    "\"\"\"\n",
    "\n",
    "   Crie um algoritmo que mostre o seu nome em uma linha\n",
    "   E seu sobrenome em outra linha.\n",
    "   Utilize o mesmo print\n",
    "\n",
    "\"\"\"\n",
    "print(\"Rômulo \\nSilvestre\")"
   ]
  },
  {
   "cell_type": "code",
   "execution_count": null,
   "metadata": {},
   "outputs": [],
   "source": [
    "\"\"\"\n",
    "\n",
    "  Crie um algoritmo que leia o nome da categoria e armazene em uma variável\n",
    "\n",
    "\n",
    "\"\"\"\n",
    "\n",
    "categoria = input(\"Digite a categoria do curso:\")\n",
    "print(categoria)\n",
    "print(type(categoria))"
   ]
  },
  {
   "cell_type": "code",
   "execution_count": null,
   "metadata": {},
   "outputs": [],
   "source": [
    "\"\"\" 4\n",
    "\n",
    "   Somar dois números\n",
    "   Sem Debug\n",
    "\n",
    "\n",
    "\n",
    "\"\"\"\n",
    "x = int(input(\"digite um número\"))\n",
    "y = int(input(\"digite outro número\"))\n",
    "soma = x + y\n",
    "print(soma)"
   ]
  },
  {
   "cell_type": "code",
   "execution_count": null,
   "metadata": {},
   "outputs": [],
   "source": [
    "#5\n",
    "import math\n",
    "\n",
    "print(math.pow(10,2))"
   ]
  },
  {
   "cell_type": "code",
   "execution_count": null,
   "metadata": {},
   "outputs": [],
   "source": [
    "#6\n",
    "import math\n",
    "\n",
    "print(math.sqrt(25))"
   ]
  },
  {
   "cell_type": "code",
   "execution_count": null,
   "metadata": {},
   "outputs": [],
   "source": [
    "#7\n",
    "dados = [15,14,10,11,13,12]\n",
    "dados.sort()\n",
    "print(dados)\n",
    "print(len(dados))"
   ]
  },
  {
   "cell_type": "code",
   "execution_count": null,
   "metadata": {},
   "outputs": [],
   "source": [
    "#8nome = input(\"Informe o nome: \")\n",
    "idade = int(input(\"Informe a idade: \"))\n",
    "profissao = input(\"Informe  a profissão: \")\n",
    "\n",
    "print(f\"Nome: {nome}.\")\n",
    "print(f\"Idade: {idade}.\")\n",
    "print(f\"Profissão: {profissao}.\")"
   ]
  },
  {
   "cell_type": "code",
   "execution_count": null,
   "metadata": {},
   "outputs": [],
   "source": [
    "#9\n",
    "#importando pacote\n",
    "\n",
    "import mysql.connector\n",
    "\n",
    "\n",
    "\"\"\"\n",
    "fsymbols\n",
    "\"\"\"\n",
    "\n",
    "print(\"\"\"\n",
    "░█▀▀█ █──█ ▀▀█▀▀ █──█ █▀▀█ █▀▀▄ ░█▀▀▀█ █▀▀ █──█ █▀▀█ █▀▀█ █── █▀▀ \n",
    "░█▄▄█ █▄▄█ ──█── █▀▀█ █──█ █──█ ─▀▀▀▄▄ █── █▀▀█ █──█ █──█ █── ▀▀█ \n",
    "░█─── ▄▄▄█ ──▀── ▀──▀ ▀▀▀▀ ▀──▀ ░█▄▄▄█ ▀▀▀ ▀──▀ ▀▀▀▀ ▀▀▀▀ ▀▀▀ ▀▀▀\"\"\")\n",
    "\n",
    "print(\"Cadastre a Categoria\")\n",
    "nome = input(\"Nome: \")\n",
    "\n",
    "\n",
    "\n",
    "\n",
    "# --- 1. CONFIGURAÇÃO DA CONEXÃO ---\n",
    "# Substitua os valores entre aspas pelos seus dados\n",
    "db_config = {\n",
    "    \"host\": \"localhost\",  # Ou o IP do seu servidor MySQL\n",
    "    \"user\": \"root\",\n",
    "    \"password\": \"\",\n",
    "    \"database\": \"lms\"\n",
    "}\n",
    "\n",
    "# --- 2. DADOS A SEREM INSERIDOS ---\n",
    "nome_nova_categoria = nome\n",
    "\n",
    "# O ID será gerado automaticamente pelo MySQL se for AUTO_INCREMENT\n",
    "\n",
    "# --- 3. ESTABELECENDO E USANDO A CONEXÃO ---\n",
    "try:\n",
    "    # Conecta ao banco de dados\n",
    "    \"\"\"\n",
    "     Os dois asteriscos(**) servem para desempacotar(unpack) um dicionário e passar seus pares de chave - valor como argumentos nomeados(keywords arguments) para\n",
    "    uma\n",
    "    função.\n",
    "    \"\"\"\n",
    "\n",
    "    conexao = mysql.connector.connect(**db_config)\n",
    "    cursor = conexao.cursor()\n",
    "\n",
    "    # Consulta SQL para inserção. Usamos %s como placeholder (seguro!)\n",
    "    sql_insert = \"INSERT INTO categoria (nome) VALUES (%s)\"\n",
    "\n",
    "    # Os dados a serem inseridos, sempre como uma tupla\n",
    "    dados_categoria = (nome_nova_categoria,)\n",
    "\n",
    "    # Executa a consulta\n",
    "    cursor.execute(sql_insert, dados_categoria)\n",
    "\n",
    "    # Confirma a transação (MUITO IMPORTANTE!)\n",
    "    conexao.commit()\n",
    "\n",
    "    print(f\"Sucesso! Categoria '{nome_nova_categoria}' inserida com o ID: {cursor.lastrowid}\")\n",
    "\n",
    "except mysql.connector.Error as erro:\n",
    "    print(f\"Erro ao inserir a categoria: {erro}\")\n",
    "    # Se houve um erro, desfazemos quaisquer alterações\n",
    "    if 'conexao' in locals() and conexao.is_connected():\n",
    "        conexao.rollback()\n",
    "\n",
    "finally:\n",
    "    # --- 4. FECHANDO CONEXÕES ---\n",
    "    # Garante que o cursor e a conexão sejam fechados, mesmo se houver erro\n",
    "    if 'cursor' in locals():\n",
    "        cursor.close()\n",
    "    if 'conexao' in locals() and conexao.is_connected():\n",
    "        conexao.close()\n",
    "        print(\"Conexão com o MySQL fechada.\")"
   ]
  },
  {
   "cell_type": "code",
   "execution_count": null,
   "metadata": {},
   "outputs": [],
   "source": [
    "#10\n",
    "\n",
    "mercado = ['ações','opções','futuro','dolar','ouro','criptomoedas']\n",
    "print(mercado)\n",
    "\n",
    "# o legal da lista é o fatiamento\n",
    "# o fatiamento é chamado de slice\n",
    "# podemos extrair um elemento ou um conjunto de elementos\n",
    "# devemos começar com o indice zero\n",
    "print(mercado[0])\n",
    "# quero os três primeiros\n",
    "print(mercado[0:3]) # os dois pontos indica que a lista vai do elemento de índice 0 até o elemento de índice (3-1)\n",
    "\n",
    "# pagina 30 operações com listas"
   ]
  },
  {
   "cell_type": "code",
   "execution_count": null,
   "metadata": {},
   "outputs": [],
   "source": [
    "#"
   ]
  }
 ],
 "metadata": {
  "language_info": {
   "name": "python"
  }
 },
 "nbformat": 4,
 "nbformat_minor": 2
}
