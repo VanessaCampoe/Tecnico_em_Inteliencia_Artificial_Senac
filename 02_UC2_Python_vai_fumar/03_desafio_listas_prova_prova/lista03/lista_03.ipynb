{
 "cells": [
  {
   "cell_type": "markdown",
   "id": "794d6a8f",
   "metadata": {},
   "source": [
    "Lista 03"
   ]
  },
  {
   "cell_type": "markdown",
   "id": "793d44a9",
   "metadata": {},
   "source": [
    "Observe na leitura desses exercicios que logo de cara vc percebe ser uma condição , com isso vc ja pode começar a se lembrar da estrutura do if "
   ]
  },
  {
   "cell_type": "markdown",
   "id": "d38d8ae3",
   "metadata": {},
   "source": [
    "Pesquisa:\n",
    "A estrutura básica de if e else em Python\n",
    "\n",
    "# Estrutura básica de decisão em Python\n",
    "\n",
    "if condição:\n",
    "    # bloco de código executado se a condição for verdadeira\n",
    "    pass  # substituir pelo código real\n",
    "else:\n",
    "    # bloco de código executado se a condição for falsa\n",
    "    pass  # substituir pelo código real\n",
    "E uma versão com elif (quando tiver mais de duas opções):\n",
    "\n",
    "python\n",
    "\n",
    "\n",
    "# Estrutura com múltiplas condições\n",
    "\n",
    "if condição1:\n",
    "    # executa se condição1 for verdadeira\n",
    "    pass\n",
    "elif condição2:\n",
    "    # executa se condição1 for falsa e condição2 for verdadeira\n",
    "    pass\n",
    "else:\n",
    "    # executa se nenhuma das condições anteriores for verdadeira\n",
    "    pass\n",
    "Dica rápida para lembrar:\n",
    "\n",
    "if = \"se\"\n",
    "\n",
    "elif = \"senão se\"\n",
    "\n",
    "else = \"senão\"\n",
    "\n",
    "===================================================================\n",
    "\n",
    "\n",
    "python\n",
    "\n",
    "\n",
    "\n",
    "# Entrada de dados (se precisar)\n",
    "valor = input(\"Digite algo: \")  # ou int(input()), float(input()), etc.\n",
    "\n",
    "# Condição principal\n",
    "if condição:\n",
    "    # código para condição verdadeira\n",
    "    pass\n",
    "elif outra_condição:\n",
    "    # código para outra condição verdadeira\n",
    "    pass\n",
    "else:\n",
    "    # código para caso nenhuma condição acima seja verdadeira\n",
    "    pass\n",
    "Você só precisa substituir:\n",
    "\n",
    "valor e a entrada pelo que for necessário no exercício;\n",
    "\n",
    "condição e outra_condição pelas condições específicas;\n",
    "\n",
    "e os pass pelo código real que vai executar.\n",
    "\n",
    "================================================================\n",
    "\n",
    "\n",
    "python\n",
    "\n",
    "estrura \n",
    "\n",
    "\n",
    "valor = input()\n",
    "\n",
    "if :       #condição\n",
    "\n",
    "    print()\n",
    "\n",
    "\n",
    "elif :     #outra_condição\n",
    "\n",
    "    print()\n",
    "\n",
    "\n",
    "\n",
    "else:\n",
    "\n",
    "    print()\n",
    "    "
   ]
  },
  {
   "cell_type": "markdown",
   "id": "79c582a9",
   "metadata": {},
   "source": [
    "Lista 03 "
   ]
  },
  {
   "cell_type": "code",
   "execution_count": 2,
   "id": "e4d040da",
   "metadata": {},
   "outputs": [
    {
     "name": "stdout",
     "output_type": "stream",
     "text": [
      "85.0\n"
     ]
    }
   ],
   "source": [
    "# Algoritmo 90 – Entrar com um número e imprimi-lo caso seja maior que 20.\n",
    "\n",
    "\n",
    "n = float(input(\"Digite um numero\"))\n",
    "if n > 20:\n",
    "    print(n)"
   ]
  },
  {
   "cell_type": "code",
   "execution_count": 3,
   "id": "5d2168fb",
   "metadata": {},
   "outputs": [
    {
     "name": "stdout",
     "output_type": "stream",
     "text": [
      "Resultado 108\n"
     ]
    }
   ],
   "source": [
    "#algoritmo 91 – Construir um #algoritmo que leia dois valores numéricos inteiros e efetue a adição; caso o resultado seja maior que 10, apresentá-lo.\n",
    "\n",
    "#1 minhas variaveis / atribuuição / e o que pede q no caso vai ser um padrao input ou seja  tipo e depois o input / por fim a minha tribuição \n",
    "#2 falaar o que o prgram deve fazer com as informações  q stou recendo do input // o seja o que a questao pede \n",
    "#3  aqui minha condicional IF pq no comando ele pede paa eu executar se \"SE\"  ,, entao aqui entro na estrutura do IF\n",
    "\n",
    "n1 =  int(input(\"Digite 1° nuumero \"))\n",
    "n2 = int(input(\"digite 2° numero \"))\n",
    "\n",
    "soma = n1 + n2 \n",
    "if soma > 10:\n",
    "    print(\"Resultado\" , soma)\n",
    "\n",
    "\n",
    "\n",
    "\n",
    "\n",
    "\n"
   ]
  },
  {
   "cell_type": "code",
   "execution_count": null,
   "id": "cbb174ca",
   "metadata": {},
   "outputs": [],
   "source": [
    "#algoritmo 92 – Construir um #algoritmo que leia dois números e efetue a adição. Caso o valor somado seja maior que 20, este deverá ser apresentado somando-se a ele mais 8; Caso o valor somado seja menor ou igual a 20, este deverá ser apresentado subtraindo-se 5.\n",
    "\n",
    "\n",
    "n1 = float(input(\"Digite o primeiro número: \"))\n",
    "n2 = float(input(\"Digite o segundo número: \"))\n",
    "soma = n1 + n2\n",
    "if soma > 20:\n",
    "    resultado = soma + 8\n",
    "else:\n",
    "    resultado = soma - 5\n",
    "print(\"Resultado:\", resultado)\n",
    "\n",
    "\n",
    "\n",
    "\n"
   ]
  },
  {
   "cell_type": "code",
   "execution_count": null,
   "id": "58c60f9e",
   "metadata": {},
   "outputs": [],
   "source": [
    "#algoritmo 93 – Entrar com um número e imprimir a raiz quadrada do número caso ele seja positivo e o quadrado do número caso ele seja negativo.\n",
    "\n",
    "import math\n",
    "n = float(input(\"Digite um número: \"))\n",
    "if n >= 0:\n",
    "    resultado = math.sqrt(n)\n",
    "else:\n",
    "    resultado = n ** 2\n",
    "print(\"Resultado:\", resultado)\n"
   ]
  },
  {
   "cell_type": "code",
   "execution_count": null,
   "id": "c8856263",
   "metadata": {},
   "outputs": [],
   "source": [
    "#algoritmo 94 – Entrar com um número e imprimir uma das mensagens: é múltiplo de 3 ou não é múltiplo de 3.\n",
    "\n",
    "n = int(input(\"Digite um número: \"))\n",
    "if n % 3 == 0:\n",
    "    print(\"É múltiplo de 3\")\n",
    "else:\n",
    "    print(\"Não é múltiplo de 3\")\n",
    "\n",
    "\n",
    "\"\"\"\n",
    "    if n % 3 == 0:\n",
    "é o operador módulo em Python (e em muitas outras linguagens), representado pelo símbolo %.\n",
    "\n",
    "O que é o operador módulo %?\n",
    "Ele retorna o resto da divisão inteira entre dois números.\n",
    "\n",
    "Exemplo: 7 % 3 significa \"o resto da divisão de 7 por 3\".\n",
    "\n",
    "Como 7 dividido por 3 é 2 (porque 3x2 = 6) e sobra 1, então 7 % 3 é 1.\n",
    "\n",
    "Para que ele é usado no código?\n",
    "No seu caso, ele é usado para verificar divisibilidade:\n",
    "\n",
    "Quando dizemos n % 3 == 0, significa que o resto da divisão de n por 3 é zero.\n",
    "\n",
    "Ou seja, n é divisível por 3, sem sobras.\n",
    "\n",
    "Exemplo prático\n",
    "python\n",
    "Copiar código\n",
    "n = 9\n",
    "if n % 3 == 0:\n",
    "    print(\"9 é divisível por 3\")\n",
    "Como 9 % 3 é 0 (pois 9 dividido por 3 é 3 e não sobra nada), a condição é verdadeira, então o programa imprime a mensagem.\n",
    "\n",
    "Já se fosse:\n",
    "\n",
    "python\n",
    "Copiar código\n",
    "n = 10\n",
    "if n % 3 == 0:\n",
    "    print(\"10 é divisível por 3\")\n",
    "else:\n",
    "    print(\"10 não é divisível por 3\")\n",
    "Como 10 % 3 é 1 (sobrou 1 na divisão), a condição é falsa, e imprime \"10 não é divisível por 3\".\n",
    "\"\"\""
   ]
  },
  {
   "cell_type": "code",
   "execution_count": null,
   "id": "ff7308bf",
   "metadata": {},
   "outputs": [],
   "source": [
    "#algoritmo 95 – Entrar com um número e informar se ele é ou não divisível por 5.\n",
    "\n",
    "n = int(input(\"Digite um número: \"))\n",
    "if n % 5 == 0:\n",
    "    print(\"É divisível por 5\")\n",
    "else:\n",
    "    print(\"Não é divisível por 5\")\n"
   ]
  },
  {
   "cell_type": "code",
   "execution_count": null,
   "id": "b5da137d",
   "metadata": {},
   "outputs": [],
   "source": [
    "#algoritmo 96 – Entrar com um número e informar se ele é divisível por 3 e por 7.\n",
    "\n",
    "n = int(input(\"Digite um número: \"))\n",
    "if n % 3 == 0 and n % 7 == 0:\n",
    "    print(\"É divisível por 3 e por 7\")\n",
    "else:\n",
    "    print(\"Não é divisível por 3 e por 7\")"
   ]
  },
  {
   "cell_type": "code",
   "execution_count": 4,
   "id": "01b7c36c",
   "metadata": {},
   "outputs": [
    {
     "name": "stdout",
     "output_type": "stream",
     "text": [
      "É divisível por 5\n"
     ]
    }
   ],
   "source": [
    "#algoritmo 97 – Entrar com um número e informar se ele é divisível por 10, por 5, por 2 ou se não é divisível por nenhum destes.\n",
    "n = int(input(\"Digite um número: \"))\n",
    "if n % 10 == 0:\n",
    "    print(\"É divisível por 10\")\n",
    "elif n % 5 == 0:\n",
    "    print(\"É divisível por 5\")\n",
    "elif n % 2 == 0:\n",
    "    print(\"É divisível por 2\")\n",
    "else:\n",
    "    print(\"Não é divisível por 10, 5 ou 2\")"
   ]
  },
  {
   "cell_type": "code",
   "execution_count": null,
   "id": "fb00a3e7",
   "metadata": {},
   "outputs": [],
   "source": []
  },
  {
   "cell_type": "code",
   "execution_count": null,
   "id": "9a21279b",
   "metadata": {},
   "outputs": [],
   "source": []
  }
 ],
 "metadata": {
  "kernelspec": {
   "display_name": ".venv (3.13.9)",
   "language": "python",
   "name": "python3"
  },
  "language_info": {
   "codemirror_mode": {
    "name": "ipython",
    "version": 3
   },
   "file_extension": ".py",
   "mimetype": "text/x-python",
   "name": "python",
   "nbconvert_exporter": "python",
   "pygments_lexer": "ipython3",
   "version": "3.13.9"
  }
 },
 "nbformat": 4,
 "nbformat_minor": 5
}
