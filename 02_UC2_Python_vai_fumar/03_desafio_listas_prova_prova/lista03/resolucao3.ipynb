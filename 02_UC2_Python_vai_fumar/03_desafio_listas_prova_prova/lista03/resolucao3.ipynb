{
 "cells": [
  {
   "cell_type": "markdown",
   "metadata": {},
   "source": [
    "Lista 3 – Use estruturas de seleção\n",
    "Algoritmo 90 – Entrar com um número e imprimi-lo caso seja maior que 20\n",
    "Algoritmo 91 – Construir um algoritmo que leia dois valores numéricos inteiros e\n",
    "efetue a adição; caso o resultado seja maior que 10, apresentá-lo.\n",
    "algoritmo 92- Construir um algoritmo que leia dois números e efetue a adição.\n",
    "Caso o valor somado seja maior que 20, este deverá ser apresentado somando-se\n",
    "a ele mais 8; Caso o valor somado seja menor ou igual a 20, este deverá ser\n",
    "apresentado subtraindo-se 5.\n",
    "algoritmo 93 - Entrar com um número e imprimir a raiz quadrada do número caso\n",
    "ele seja positivo e o quadrado do número caso ele seja negativo.\n",
    "algoritmo 94 - Entrar com um número e imprimir uma das mensagens: é múltiplo\n",
    "de 3 ou não é múltiplo de 3.\n",
    "algoritmo 95 - Entrar com um número e informar se ele é ou não divisível por 5.\n",
    "algoritmo 96 - Entrar com um número e informar se ele é divisível por 3 e por 7.\n",
    "algoritmo 97 - Entrar comum número e informar se ele é divisível por 10, por 5,\n",
    "por2 ouse não é divisível por nenhum destes."
   ]
  },
  {
   "cell_type": "markdown",
   "metadata": {},
   "source": []
  },
  {
   "cell_type": "code",
   "execution_count": null,
   "metadata": {},
   "outputs": [],
   "source": []
  }
 ],
 "metadata": {
  "language_info": {
   "name": "python"
  }
 },
 "nbformat": 4,
 "nbformat_minor": 2
}
