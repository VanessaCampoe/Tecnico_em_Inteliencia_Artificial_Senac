{
 "cells": [
  {
   "cell_type": "code",
   "execution_count": 3,
   "metadata": {},
   "outputs": [
    {
     "name": "stdout",
     "output_type": "stream",
     "text": [
      "É PRECISO FAZER TODOS OS ALGORITMOS PARA APRENDER\n"
     ]
    }
   ],
   "source": [
    "#28 Imprimir a mensagem: \"É PRECISO FAZER TODOS OS ALGORITMOS PARA APRENDER\".\n",
    "print(\"É PRECISO FAZER TODOS OS ALGORITMOS PARA APRENDER\")"
   ]
  },
  {
   "cell_type": "code",
   "execution_count": 4,
   "metadata": {},
   "outputs": [
    {
     "name": "stdout",
     "output_type": "stream",
     "text": [
      "Vanessa\n"
     ]
    }
   ],
   "source": [
    "#Algoritmo 29\n",
    "#EEnunciado: Imprimir seu nome.\n",
    "print(\"Vanessa\")"
   ]
  },
  {
   "cell_type": "code",
   "execution_count": null,
   "metadata": {},
   "outputs": [],
   "source": [
    "# Algoritmo 30 - Criar um algoritmo que imprima o produto entre 28 e 43.\n",
    "produto = 28 * 43\n",
    "print(\"Produto:\", produto)\n",
    "\n"
   ]
  },
  {
   "cell_type": "code",
   "execution_count": null,
   "metadata": {},
   "outputs": [],
   "source": [
    "# Algoritmo 31 - Criar um algoritmo que imprima a média aritmética entre os números 10, 20 e 30.\n",
    "media = (10 + 20 + 30) / 3\n",
    "print(\"Média:\", media)\n",
    "\n"
   ]
  },
  {
   "cell_type": "code",
   "execution_count": null,
   "metadata": {},
   "outputs": [],
   "source": [
    "# Algoritmo 32 - Ler um número inteiro e imprimi-lo.\n",
    "num = int(input(\"Digite um número inteiro: \"))\n",
    "print(\"Número digitado:\", num)\n"
   ]
  },
  {
   "cell_type": "code",
   "execution_count": null,
   "metadata": {},
   "outputs": [],
   "source": [
    "# Algoritmo 33 - Ler dois números inteiros e imprimi-los.\n",
    "a = int(input(\"Digite o primeiro número: \"))\n",
    "b = int(input(\"Digite o segundo número: \"))\n",
    "print(\"Primeiro número:\", a)\n",
    "print(\"Segundo número:\", b)\n"
   ]
  },
  {
   "cell_type": "code",
   "execution_count": null,
   "metadata": {},
   "outputs": [],
   "source": [
    "# Algoritmo 34 - Ler um número inteiro e imprimir seu sucessor e seu antecessor.\n",
    "n = int(input(\"Digite um número inteiro: \"))\n",
    "print(\"Antecessor:\", n - 1)\n",
    "print(\"Sucessor:\", n + 1)\n"
   ]
  },
  {
   "cell_type": "code",
   "execution_count": null,
   "metadata": {},
   "outputs": [],
   "source": [
    "# Algoritmo 35 - Ler nome, endereço e telefone e imprimi-los.\n",
    "nome = input(\"Digite seu nome: \")\n",
    "endereco = input(\"Digite seu endereço: \")\n",
    "telefone = input(\"Digite seu telefone: \")\n",
    "print(\"Nome:\", nome)\n",
    "print(\"Endereço:\", endereco)\n",
    "print(\"Telefone:\", telefone)\n"
   ]
  },
  {
   "cell_type": "code",
   "execution_count": null,
   "metadata": {},
   "outputs": [],
   "source": [
    "# Algoritmo 36 - Ler dois números inteiros e imprimir a soma. Antes do resultado, deverá aparecer a mensagem: Soma.\n",
    "x = int(input(\"Digite o primeiro número: \"))\n",
    "y = int(input(\"Digite o segundo número: \"))\n",
    "soma = x + y\n",
    "print(\"Soma:\", soma)\n"
   ]
  },
  {
   "cell_type": "code",
   "execution_count": null,
   "metadata": {},
   "outputs": [],
   "source": []
  },
  {
   "cell_type": "code",
   "execution_count": null,
   "metadata": {},
   "outputs": [],
   "source": []
  },
  {
   "cell_type": "code",
   "execution_count": null,
   "metadata": {},
   "outputs": [],
   "source": []
  }
 ],
 "metadata": {
  "kernelspec": {
   "display_name": ".venv",
   "language": "python",
   "name": "python3"
  },
  "language_info": {
   "codemirror_mode": {
    "name": "ipython",
    "version": 3
   },
   "file_extension": ".py",
   "mimetype": "text/x-python",
   "name": "python",
   "nbconvert_exporter": "python",
   "pygments_lexer": "ipython3",
   "version": "3.12.2"
  }
 },
 "nbformat": 4,
 "nbformat_minor": 2
}
