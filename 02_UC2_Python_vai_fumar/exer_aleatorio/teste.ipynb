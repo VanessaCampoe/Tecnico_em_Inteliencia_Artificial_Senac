{
 "cells": [
  {
   "cell_type": "code",
   "execution_count": null,
   "metadata": {},
   "outputs": [],
   "source": [
    "# 1. Soma de dois números\n",
    "a = 5\n",
    "b = 3\n",
    "soma = a + b\n",
    "print(\"Soma:\", soma)\n",
    "\n",
    "# 2. Verificar se número é par ou ímpar\n",
    "num = 4\n",
    "if num % 2 == 0:\n",
    "    print(\"Par\")\n",
    "else:\n",
    "    print(\"Ímpar\")\n",
    "\n",
    "# 3. Fatorial de um número (ex: 5! = 120)\n",
    "n = 5\n",
    "fatorial = 1\n",
    "for i in range(1, n + 1):\n",
    "    fatorial *= i\n",
    "print(\"Fatorial:\", fatorial)\n",
    "\n",
    "# 4. Contar até 10\n",
    "for i in range(1, 11):\n",
    "    print(i)\n",
    "\n",
    "# 5. Verificar se a palavra é palíndromo (ex: \"radar\")\n",
    "palavra = \"radar\"\n",
    "if palavra == palavra[::-1]:\n",
    "    print(\"É palíndromo\")\n",
    "else:\n",
    "    print(\"Não é palíndromo\")\n",
    "\n",
    "# 6. Maior número em uma lista\n",
    "lista = [3, 8, 1, 10, 2]\n",
    "maior = max(lista)\n",
    "print(\"Maior número:\", maior)\n",
    "\n",
    "# 7. Média de uma lista\n",
    "lista = [4, 6, 8, 10]\n",
    "media = sum(lista) / len(lista)\n",
    "print(\"Média:\", media)\n",
    "\n",
    "# 8. Trocar valores de duas variáveis\n",
    "x = 10\n",
    "y = 20\n",
    "x, y = y, x\n",
    "print(\"x:\", x, \"y:\", y)\n"
   ]
  }
 ],
 "metadata": {
  "language_info": {
   "name": "python"
  }
 },
 "nbformat": 4,
 "nbformat_minor": 2
}
